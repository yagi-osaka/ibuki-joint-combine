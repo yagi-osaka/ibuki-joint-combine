{
 "cells": [
  {
   "cell_type": "code",
   "execution_count": null,
   "metadata": {},
   "outputs": [],
   "source": [
    "import pandas as pd\n",
    "import datetime\n",
    "\n",
    "def __table__(df_pre,df,i,label_unit):\n",
    "    label = label_unit[i]\n",
    "    df_e = df[df['field.name'].str.contains(label)]\n",
    "    df_e = df_e.drop(['%time','field.header.seq','field.header.frame_id','field.name','field.seq','field.msgid'],axis='columns')\n",
    "    df_e = df_e.rename(columns={'field.header.stamp':label+' time', 'field.payload0':'joint'+str(5*i), 'field.payload1':'joint'+str(5*i+1), 'field.payload2':'joint'+str(5*i+2), 'field.payload3':'joint'+str(5*i+3), 'field.payload4':'joint'+str(5*i+4)})\n",
    "    df_e = df_e.reset_index(drop=True)\n",
    "    df_e[label+' time'] = df_e[label+' time']*0.000000001+3600*9\n",
    "    for j in range(0,5):\n",
    "        df_e['joint'+str(5*i+j)] = df_e['joint'+str(5*i+j)]*0.1\n",
    "    df_e[label+' time'] = pd.to_datetime(df_e[label+' time'],unit='s')\n",
    "    df_e = pd.concat([df_e,df_pre],axis=1)\n",
    "    if i==0:\n",
    "        return df_e\n",
    "    else: return __table__(df_e,df,i-1,label_unit)\n",
    "\n",
    "df = pd.read_csv('yagi.csv') #読み込むファイル名\n",
    "i = 6 #読み込むノード数-1\n",
    "label_unit = ['hip','arml','armr','neck','headl','headr','headc'] #ノードのラベル名\n",
    "\n",
    "df_pre = pd.DataFrame()\n",
    "df = __table__(df_pre, df, i, label_unit)\n",
    "#print(df)\n",
    "df.to_csv(\"yagi2.csv\") #出力したいファイル名"
   ]
  }
 ],
 "metadata": {
  "kernelspec": {
   "display_name": "Python 3",
   "language": "python",
   "name": "python3"
  },
  "language_info": {
   "codemirror_mode": {
    "name": "ipython",
    "version": 3
   },
   "file_extension": ".py",
   "mimetype": "text/x-python",
   "name": "python",
   "nbconvert_exporter": "python",
   "pygments_lexer": "ipython3",
   "version": "3.7.1"
  }
 },
 "nbformat": 4,
 "nbformat_minor": 2
}
